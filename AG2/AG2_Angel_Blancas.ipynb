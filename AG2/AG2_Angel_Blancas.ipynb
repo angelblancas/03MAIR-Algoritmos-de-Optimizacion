{
  "nbformat": 4,
  "nbformat_minor": 0,
  "metadata": {
    "colab": {
      "name": "AG2-Angel Blancas.ipynb",
      "version": "0.3.2",
      "provenance": [],
      "collapsed_sections": [],
      "include_colab_link": true
    },
    "kernelspec": {
      "name": "python3",
      "display_name": "Python 3"
    }
  },
  "cells": [
    {
      "cell_type": "markdown",
      "metadata": {
        "id": "view-in-github",
        "colab_type": "text"
      },
      "source": [
        "<a href=\"https://colab.research.google.com/github/angelblancas/03MAIR-Algoritmos-de-Optimizacion/blob/master/AG2/AG2_Angel_Blancas.ipynb\" target=\"_parent\"><img src=\"https://colab.research.google.com/assets/colab-badge.svg\" alt=\"Open In Colab\"/></a>"
      ]
    },
    {
      "metadata": {
        "id": "4DFXUsEHijOx",
        "colab_type": "text"
      },
      "cell_type": "markdown",
      "source": [
        " Ángel Blancas García - AG2<br>\n",
        " Actividad Guiada<br>\n",
        " URL: [https://github.com/angelblancas/03MAIR-Algoritmos-de-Optimizacion/tree/master/AG2](https://github.com/angelblancas/03MAIR-Algoritmos-de-Optimizacion/tree/master/AG2)"
      ]
    },
    {
      "metadata": {
        "id": "aAV2MlFEsZhT",
        "colab_type": "text"
      },
      "cell_type": "markdown",
      "source": [
        "**ALGORITMO MENOR DISTANCIA ENTRE DOS PUNTOS - MEJORAS REALIZADAS:**"
      ]
    },
    {
      "metadata": {
        "id": "eABBP25JslAh",
        "colab_type": "text"
      },
      "cell_type": "markdown",
      "source": [
        "1.   Resuelvo la zona de los puntos que quedan a uno y otro lado del pivote dentro de la función recursiva teniendo en cuenta posibles repeticiones del punto pivote en las listas\n",
        "2.   Control de varios errores, por ejemplo si llega un solo elemento en la lista, si llegan elementos de diferente longitud, se deja batería de pruebas en la definición de la lista 2D\n",
        "3.   Función de ordenación de la lista fuera del bucle de recursividad para mejorar tiempos\n",
        "4.   Antes de inciar la recursividad compruebo si hay puntos repetidos en la lista, si los hay la menor distancia es 0 con esos puntos\n",
        "5.   Devolución además de los dos puntos de la distancia.\n",
        "\n"
      ]
    },
    {
      "metadata": {
        "id": "42T50jxKEkFI",
        "colab_type": "code",
        "colab": {}
      },
      "cell_type": "code",
      "source": [
        "#Decorador para calculo del tiempo de una función modificado para mejor salida de información\n",
        "from time import time\n",
        "def calcular_tiempo(f):\n",
        "  def wrapped(*args, **kw):\n",
        "    ti = time()\n",
        "    result = f(*args, **kw)\n",
        "    te = time() - ti\n",
        "    print ('\\nTiempo de ejecución de la funcion %r: %2.5f ms'%(f.__name__,te*1000))\n",
        "    return result\n",
        "  return wrapped"
      ],
      "execution_count": 0,
      "outputs": []
    },
    {
      "metadata": {
        "id": "-TupE9SCl6GQ",
        "colab_type": "code",
        "colab": {}
      },
      "cell_type": "code",
      "source": [
        "# Importación de librerías necesarias\n",
        "import random\n",
        "import math\n",
        "import numpy as np"
      ],
      "execution_count": 0,
      "outputs": []
    },
    {
      "metadata": {
        "id": "0ONWfqPvm-MQ",
        "colab_type": "code",
        "colab": {
          "base_uri": "https://localhost:8080/",
          "height": 74
        },
        "outputId": "91d3febd-c3c3-41f2-d87b-482294589884"
      },
      "cell_type": "code",
      "source": [
        "# Definición de lista 2D\n",
        "N= 1000 # Número de elementos para el modelo aleatorio\n",
        "LISTA_2D= [(random.randrange(1,N*10), random.randrange(1,N*10))for _ in range(N)] # Modelo aleatorio\n",
        "#LISTA_2D=[(0,5)] # Control de error para cuando llega un solo elemento en la lista\n",
        "#LISTA_2D=[(0,5),(2,)]\n",
        "#LISTA_2D=[(0,0),(10,0),(20,0),(25,0),(89,0),(45,0),(46,0),(48,0),(66,0),(70,0),(80,0),(25,0),(80,0)] # Modelo no aleatorio para probar cuando hay puntos repetidos\n",
        "#LISTA_2D=[(0,0),(2,0),(20,0),(25,0),(35,0),(45,0),(46,0),(48,0),(66,0),(70,0),(80,0),(90,0)] # Modelo no aleatorio para probar la zona cercana a los pivotes \n",
        "\n",
        "print (LISTA_2D)\n",
        "print ('Longitud de la lista: ',len(LISTA_2D))"
      ],
      "execution_count": 5,
      "outputs": [
        {
          "output_type": "stream",
          "text": [
            "[(2356, 2561), (8943, 3684), (8124, 8973), (6642, 9849), (8563, 1168), (4384, 1695), (1242, 7782), (4893, 8423), (8780, 5225), (2624, 8008), (742, 3064), (4341, 5596), (4367, 9258), (1581, 9440), (3368, 5940), (5523, 5603), (9627, 7473), (5778, 492), (8145, 3169), (4871, 6557), (9463, 8599), (9877, 7606), (9191, 6021), (9087, 8007), (231, 7493), (4589, 4545), (1832, 4312), (6793, 8741), (8577, 9311), (5008, 3374), (4479, 1853), (2250, 3089), (9750, 5784), (4390, 5598), (8085, 8146), (5145, 8880), (9860, 2494), (7233, 9031), (1587, 3990), (5938, 6845), (1003, 4746), (5445, 5225), (487, 1111), (97, 6276), (6576, 9533), (4967, 3463), (6565, 9619), (1272, 5123), (2374, 7046), (4240, 1845), (1164, 217), (7688, 4888), (3550, 6119), (9648, 5639), (1852, 4607), (4056, 4161), (1399, 1401), (8212, 9606), (8516, 1275), (6301, 9241), (7963, 2317), (1749, 6874), (8106, 604), (8311, 6739), (246, 7149), (6413, 9635), (1548, 1657), (8782, 9445), (4180, 4743), (1234, 2189), (8412, 3048), (8605, 5358), (8344, 702), (1425, 3462), (3276, 6653), (9220, 5652), (476, 8599), (257, 548), (1950, 767), (8140, 2739), (1943, 6047), (2494, 9129), (4566, 394), (6752, 7981), (8740, 1167), (4979, 4202), (5158, 7305), (6249, 3800), (6733, 4864), (5892, 1212), (5329, 651), (3509, 7630), (6049, 9246), (416, 1768), (8378, 654), (3883, 1474), (5584, 2423), (3514, 3036), (7050, 4849), (5273, 105), (5702, 965), (6865, 3128), (7406, 6013), (3399, 6390), (3611, 5708), (8799, 7968), (1550, 3307), (3713, 1430), (237, 6249), (5633, 5242), (9912, 7018), (9403, 996), (6256, 9369), (8457, 4637), (4900, 8532), (8848, 5265), (9545, 896), (9702, 7825), (6847, 8575), (4408, 4285), (6218, 2847), (3708, 648), (2461, 7023), (4003, 5149), (1011, 4310), (5545, 1084), (4943, 1932), (2761, 5835), (9608, 6503), (1364, 6247), (1531, 115), (9928, 71), (1222, 4748), (4033, 3187), (3877, 8627), (3045, 5180), (6284, 4308), (3214, 3511), (6524, 9191), (447, 1340), (3228, 7548), (5715, 7617), (1128, 7699), (6168, 2399), (3783, 8411), (8867, 5630), (3059, 935), (3941, 2893), (5853, 391), (128, 8343), (1713, 8497), (7534, 2302), (688, 9907), (2116, 9939), (7035, 9135), (7699, 1083), (3679, 3495), (2785, 7679), (9524, 4365), (1597, 534), (7420, 3731), (9644, 4264), (8377, 7864), (3946, 7225), (4822, 836), (9443, 5522), (8009, 9037), (8274, 2263), (8417, 8793), (9066, 7804), (2567, 6728), (9581, 3459), (4946, 7920), (8232, 919), (2343, 9374), (6987, 8378), (6997, 946), (8043, 9440), (3598, 2081), (7724, 1160), (4781, 8181), (9768, 7510), (8265, 4691), (1889, 3137), (6270, 4593), (3468, 1429), (8011, 1688), (2146, 6215), (7503, 2484), (7958, 248), (3323, 2160), (9595, 7920), (8202, 9211), (474, 2753), (2607, 9620), (148, 8594), (5120, 732), (6270, 4192), (3703, 179), (4401, 1536), (7823, 5275), (6124, 4714), (6731, 9042), (1037, 7730), (8629, 3871), (8719, 4151), (4376, 2304), (7988, 5438), (3560, 6991), (566, 7603), (2828, 4980), (5392, 2711), (9131, 4341), (9025, 3343), (8372, 1824), (1537, 3100), (5241, 9420), (115, 2504), (6380, 1570), (1143, 6785), (6210, 9454), (3609, 7843), (2828, 3077), (5797, 3233), (1438, 5028), (5580, 4798), (8296, 7520), (3991, 6944), (7948, 553), (3074, 1155), (8619, 4447), (8227, 5775), (9489, 7362), (7373, 3452), (2996, 7728), (3617, 550), (3586, 7449), (7856, 8717), (6034, 1093), (1998, 3162), (1480, 8255), (4793, 6468), (7663, 420), (8193, 5625), (970, 8383), (4515, 9844), (1706, 6589), (6047, 2082), (8687, 8713), (2747, 7463), (8004, 5753), (3569, 7923), (7484, 9137), (7031, 4537), (7881, 6525), (7375, 9145), (1492, 4347), (7823, 2018), (9398, 438), (8302, 9870), (2668, 7688), (4994, 3539), (3273, 6490), (4224, 3553), (3421, 5398), (8508, 1308), (4844, 86), (1250, 8535), (4896, 8059), (5560, 2121), (3628, 5018), (5928, 6108), (467, 7363), (8242, 2464), (2269, 1469), (8235, 9068), (8797, 3577), (7672, 9370), (8305, 6676), (6699, 9494), (2019, 8888), (5509, 20), (3463, 4491), (2026, 5663), (9320, 3392), (4294, 1116), (9400, 1299), (1027, 2378), (7755, 9218), (9253, 4053), (7417, 8210), (829, 8943), (9869, 8576), (1656, 8273), (8416, 6725), (261, 7325), (4746, 3402), (1784, 6550), (8305, 4470), (8087, 5071), (7542, 581), (8670, 9380), (6984, 2323), (9028, 1921), (1558, 739), (3238, 1801), (9169, 9078), (301, 3772), (6998, 9803), (6923, 6013), (5773, 592), (6860, 5454), (2482, 6898), (3381, 8227), (9281, 3968), (4514, 4132), (456, 3630), (5540, 6008), (1691, 9908), (7713, 8240), (4007, 6975), (1853, 1602), (9833, 3765), (2722, 4788), (1753, 5880), (2353, 4101), (3152, 6949), (1532, 3175), (8838, 2474), (9957, 5562), (8000, 3827), (777, 2296), (9834, 7313), (5990, 6442), (908, 244), (5210, 2180), (6823, 9556), (3272, 8905), (9748, 7706), (9140, 8040), (2858, 3705), (6028, 703), (1658, 5502), (9659, 9695), (7859, 2694), (4719, 1175), (3369, 7360), (9702, 9162), (7410, 8864), (6110, 1517), (4081, 9990), (6558, 5948), (8296, 2053), (9548, 6748), (534, 7264), (614, 6600), (9191, 1010), (3610, 1015), (2806, 2036), (9365, 5008), (1506, 1900), (270, 6491), (9900, 7571), (7513, 5651), (5585, 279), (9910, 1074), (8798, 3898), (9795, 4503), (5771, 226), (1481, 4207), (3782, 786), (3055, 4951), (1629, 4273), (2306, 3502), (219, 4067), (1998, 1576), (2317, 4403), (5225, 6780), (8465, 2519), (5850, 9785), (628, 1461), (3023, 2245), (5194, 204), (4074, 7475), (792, 7007), (3341, 2132), (7621, 2522), (7617, 8752), (7420, 4325), (4584, 9832), (7742, 1922), (8933, 7196), (4781, 6171), (6579, 1672), (4470, 2745), (1553, 9915), (9520, 6517), (88, 4538), (8138, 4341), (6359, 5320), (6253, 2495), (7199, 366), (4449, 9497), (5191, 1326), (1193, 1144), (6892, 7196), (8225, 695), (3337, 6156), (7122, 604), (2566, 8911), (7519, 7251), (3492, 6197), (1656, 8869), (996, 1519), (9095, 7800), (8087, 2922), (1573, 1334), (9414, 1939), (6132, 9399), (3848, 4112), (5546, 8726), (2571, 6909), (2675, 4147), (9825, 2055), (6329, 1691), (4201, 7104), (3280, 1163), (457, 4037), (4041, 2305), (2934, 9671), (7487, 8388), (956, 5027), (4589, 1542), (9147, 3715), (3915, 8106), (6317, 6088), (5013, 4611), (9164, 5870), (4010, 2457), (2822, 213), (6816, 4541), (8110, 936), (8632, 1957), (163, 7186), (633, 5258), (1203, 9157), (2052, 6030), (9302, 8404), (8148, 7312), (7708, 7613), (4913, 8450), (3736, 9288), (8048, 273), (1165, 6018), (4240, 6609), (6842, 6328), (3283, 4376), (3377, 9325), (8200, 6035), (551, 3766), (7959, 3483), (6308, 2179), (4238, 1234), (745, 5869), (3931, 586), (3920, 8461), (2113, 8796), (9453, 3297), (5605, 7798), (5836, 9848), (7518, 182), (6821, 6657), (1321, 9959), (731, 4839), (6073, 9406), (1723, 2748), (9091, 2769), (6697, 8224), (4184, 588), (6295, 5613), (5674, 3055), (9617, 9797), (3428, 344), (6716, 6324), (8147, 5470), (5641, 6636), (4104, 7840), (9570, 1690), (1772, 7242), (9092, 3091), (7762, 8496), (6755, 5014), (2385, 1091), (1716, 9175), (313, 6382), (4283, 8871), (7626, 6806), (9356, 2531), (4916, 4317), (4688, 6279), (9719, 1020), (3203, 1353), (8593, 9904), (7339, 5611), (9700, 3693), (5554, 86), (6622, 2952), (9381, 4243), (4336, 6761), (2634, 6473), (4106, 941), (8619, 1272), (3091, 4806), (7730, 7312), (3808, 3702), (4582, 530), (5626, 7433), (5746, 2301), (3964, 5450), (785, 4257), (9132, 8368), (9522, 216), (1259, 6194), (4792, 9884), (488, 8432), (7743, 100), (4280, 3140), (3024, 4791), (2444, 6583), (3845, 9981), (8553, 1574), (43, 6063), (3457, 2981), (4007, 7531), (8092, 6465), (8241, 153), (7491, 3458), (179, 8276), (8464, 4815), (3178, 1692), (9165, 5024), (3303, 8488), (5302, 9634), (7441, 8215), (8588, 9895), (9443, 1502), (587, 2365), (7919, 7776), (6347, 4730), (1023, 9722), (7396, 3406), (3748, 8287), (8585, 1768), (8447, 6163), (3429, 2783), (3211, 1792), (5062, 2419), (3509, 7408), (6190, 6186), (8962, 8959), (208, 588), (941, 4650), (7065, 5500), (603, 835), (6246, 6235), (6694, 4317), (3316, 5484), (5862, 5952), (2702, 4438), (2249, 7612), (7564, 3725), (6259, 1416), (5361, 4829), (1279, 5031), (8529, 7186), (8369, 2811), (5718, 3263), (3044, 3501), (3316, 7248), (1222, 5761), (8778, 3025), (8348, 9298), (9949, 9131), (3989, 4032), (1132, 8999), (9981, 5404), (5665, 9413), (6319, 93), (1823, 9886), (3098, 1509), (7675, 6336), (6357, 5634), (3500, 8534), (1545, 9934), (5228, 2190), (4222, 4779), (8463, 2690), (6453, 5438), (5179, 3389), (9078, 791), (8881, 6039), (2678, 5973), (9370, 4915), (8638, 8812), (5251, 7987), (6241, 6357), (9023, 8302), (157, 8944), (5934, 9951), (7142, 7538), (9434, 2441), (6443, 7688), (6878, 8439), (4229, 3608), (3295, 9057), (6497, 3020), (6660, 9021), (2202, 8897), (2548, 2448), (4218, 9939), (4873, 6010), (7149, 8952), (5325, 2754), (6017, 2573), (4288, 8698), (1034, 5211), (8610, 1505), (179, 6050), (140, 7980), (6519, 9843), (2231, 8906), (8595, 1291), (5702, 6351), (3947, 4765), (2293, 4618), (3398, 4486), (2038, 4367), (7945, 8786), (5998, 2830), (9691, 300), (7066, 7210), (9442, 2114), (6740, 822), (4618, 9943), (704, 729), (5754, 920), (2578, 5899), (1295, 5115), (1567, 2211), (3661, 950), (2758, 2062), (2923, 484), (9055, 9960), (7063, 1779), (7520, 1575), (2089, 3973), (8026, 461), (6524, 2719), (6764, 4046), (5102, 8976), (8253, 7336), (8972, 2880), (8716, 8301), (350, 7141), (7865, 4457), (7857, 7179), (7751, 7864), (5485, 7040), (2435, 1094), (2529, 729), (6821, 9), (3207, 8212), (9479, 7417), (3550, 289), (7611, 8006), (6024, 169), (2685, 5995), (5911, 3825), (7533, 4339), (7847, 3626), (2363, 1829), (840, 5881), (4488, 8933), (2492, 7354), (8232, 5573), (9816, 7726), (575, 2405), (1408, 1134), (2238, 2663), (9879, 7001), (8076, 7413), (7771, 3084), (6031, 6214), (3205, 5457), (9514, 9866), (796, 9448), (7885, 763), (7021, 7160), (361, 3282), (9091, 3927), (8513, 7672), (3446, 7992), (8860, 2370), (8476, 3245), (9894, 3647), (3659, 340), (8586, 3450), (9452, 7951), (6788, 1104), (5017, 3438), (3140, 4323), (7513, 6153), (9137, 4718), (8120, 3931), (3186, 2425), (7397, 667), (5678, 8689), (8453, 6166), (8675, 869), (3784, 9379), (2510, 379), (1506, 482), (5069, 3936), (4568, 7013), (3556, 8380), (4533, 8633), (6681, 9157), (5596, 3738), (5452, 7484), (9246, 1482), (1242, 3023), (4991, 3160), (231, 9282), (1468, 7642), (3053, 4964), (1560, 3432), (2823, 6614), (1417, 2183), (1740, 4960), (2994, 6193), (2115, 2922), (3909, 7980), (6643, 2457), (5463, 7617), (3354, 1518), (6395, 7505), (4610, 2747), (783, 4039), (5996, 3950), (3433, 9157), (9005, 7345), (2047, 7366), (3684, 2323), (6793, 6253), (1041, 114), (9833, 1238), (1731, 5601), (351, 9034), (2253, 2290), (6181, 2054), (4817, 650), (9486, 9175), (567, 9968), (5483, 6976), (5125, 3677), (4229, 3600), (9136, 4104), (9247, 975), (8620, 2796), (1974, 8961), (5901, 7434), (8278, 9296), (8261, 3025), (37, 5297), (4263, 6337), (5074, 8742), (7110, 7623), (2952, 3728), (765, 9743), (1362, 4932), (3102, 7314), (5344, 674), (8521, 7278), (6364, 8571), (9916, 9072), (2554, 8657), (8929, 378), (5648, 8857), (1411, 7569), (2233, 4299), (5398, 811), (8759, 4030), (5126, 2680), (4122, 4867), (6699, 1015), (3870, 5323), (249, 6188), (9575, 5578), (6804, 5577), (450, 4402), (9467, 8334), (6433, 6143), (4858, 8253), (8829, 1331), (5292, 4614), (2399, 3011), (6527, 3782), (4804, 8420), (3236, 3478), (3539, 5457), (3424, 940), (3709, 7870), (2250, 9821), (8247, 5234), (1633, 4910), (5027, 3044), (8139, 7784), (9405, 719), (9557, 3744), (988, 8905), (5002, 2932), (3205, 4124), (8183, 3878), (1432, 2308), (7938, 9951), (2529, 6956), (2598, 7120), (250, 1235), (9355, 9540), (8767, 7508), (8650, 2439), (2300, 7334), (7642, 1722), (9428, 1780), (4957, 1247), (1912, 5539), (4478, 5090), (7496, 4971), (5834, 864), (8127, 1845), (7216, 4873), (2542, 6538), (8901, 2175), (836, 7105), (9375, 8499), (1507, 4943), (2865, 8852), (4685, 536), (4714, 979), (8099, 3558), (10, 3434), (9192, 5753), (5878, 388), (2295, 4954), (4573, 8872), (8802, 5397), (232, 4726), (8180, 5304), (5231, 9883), (7849, 2263), (7055, 9716), (1417, 4297), (5383, 4132), (1143, 9250), (936, 9116), (6799, 3675), (5808, 6334), (4228, 8902), (2600, 271), (2214, 497), (4119, 3101), (6936, 1654), (8374, 4188), (3787, 5964), (4770, 9921), (9717, 7298), (4302, 5743), (1601, 6686), (6936, 1875), (195, 6886), (7561, 8140), (887, 8187), (504, 8177), (1421, 7349), (2491, 483), (8352, 8361), (1410, 7305), (6554, 4435), (7979, 2495), (7743, 669), (5551, 2326), (5495, 5721), (5881, 2231), (9947, 1833), (8814, 8497), (9867, 5844), (1775, 3727), (4861, 7373), (3851, 8762), (7982, 8292), (5509, 3529), (4675, 7809), (7697, 6966), (5118, 5418), (6458, 6652), (9270, 5599), (7973, 3164), (3755, 5999), (1136, 3616), (6447, 3680), (7401, 3289), (3617, 9781), (7832, 5277), (1947, 8121), (202, 5370), (5094, 3765), (635, 8958), (2862, 3172), (5487, 3795), (3535, 8549), (4434, 7928), (6525, 6698), (2584, 7305), (3097, 71), (1324, 9062), (9072, 9874), (8376, 4330), (5372, 9517), (6008, 6492), (8151, 3248), (3336, 5873), (9130, 2071), (1799, 3324), (601, 8095), (5076, 6539), (1180, 7059), (51, 4208), (9843, 2480), (650, 1322), (1604, 417), (9598, 2355), (5976, 4519), (2953, 8660), (1098, 9499), (5195, 224), (8857, 7186), (1630, 5247), (6151, 1913), (7042, 9158), (3746, 5692), (4911, 301), (5465, 6221), (9334, 1745), (926, 992), (2141, 1259), (5537, 1440), (396, 2894), (9929, 3124), (8486, 6917), (9912, 8590), (2082, 7827), (6771, 2818), (6036, 292), (1491, 3597), (2452, 3437), (4375, 1938), (9621, 7919), (650, 6906), (3660, 257), (4524, 8456), (1215, 1885), (60, 9340), (1018, 5134), (3756, 615), (3007, 9325), (1478, 3913), (6389, 5441), (9831, 1392), (5877, 2271), (9550, 8918), (6879, 5090), (3602, 8433), (2623, 4858), (4332, 9411), (6474, 6262), (6383, 1187), (7302, 6121), (2820, 2432), (2566, 9204), (6369, 6249), (9384, 1567), (695, 7611), (4447, 9767), (7609, 5659), (7628, 2931), (9179, 2484), (4187, 6480), (5686, 3050), (9389, 2863), (323, 3044)]\n",
            "Longitud de la lista:  1000\n"
          ],
          "name": "stdout"
        }
      ]
    },
    {
      "metadata": {
        "id": "Pyh-OuLniKZ6",
        "colab_type": "code",
        "colab": {}
      },
      "cell_type": "code",
      "source": [
        "# Función Distancia entre dos elementos A y B\n",
        "def distancia (A,B):\n",
        "  if type(A) is int or type(A) is float: # Si estamos ante un elemento entero o flotante\n",
        "    return abs(B-A)\n",
        "  else:                                  # Si estamos ante elementos n dimensionales\n",
        "    if(len(A)==len(B)):\n",
        "      return math.sqrt(sum([(A[i]-B[i])**2 for i in range(len(A))]))\n",
        "    else:\n",
        "      print('# ERROR (distancia): Los parámetros deben tener la misma longitud') \n",
        "      return -1 \n",
        "      "
      ],
      "execution_count": 0,
      "outputs": []
    },
    {
      "metadata": {
        "id": "KohV4Gyulu2E",
        "colab_type": "code",
        "colab": {}
      },
      "cell_type": "code",
      "source": [
        "# Algoritmo FUERZA BRUTA\n",
        "def distancia_fuerza_bruta(L):\n",
        "                              # Como vamos a medir múltiples veces la longitud lo almaceno en una variable\n",
        "  numero_Puntos = len(L)\n",
        "  if numero_Puntos<2:         # Control de errores por si llegan 1 o ningún punto.\n",
        "    print('# ERROR (distancia_fuerza_bruta): Esto es un problema, no deberías pedirme calcular distancia si no hay mínimo dos puntos')\n",
        "    return  \n",
        "  mejor_distancia = 100000e10 # Inicializamos con un valor muy alto para asegurarnos cumplimiento\n",
        "  A,B=(),()                   # Almacenamos los Mejores valores encontrados hasta el momento\n",
        "  for i in range(numero_Puntos):\n",
        "    for j in range(i+1,numero_Puntos):\n",
        "      d= distancia(L[i],L[j])\n",
        "      if  d < mejor_distancia:\n",
        "        A,B = L[i], L[j]\n",
        "        mejor_distancia = d\n",
        "  return (mejor_distancia,[A,B]) \n",
        "  "
      ],
      "execution_count": 0,
      "outputs": []
    },
    {
      "metadata": {
        "colab_type": "code",
        "id": "Ml00V5Afm3aW",
        "colab": {}
      },
      "cell_type": "code",
      "source": [
        "# Debido a que esta acción se realizará una sola vez lo separamos en función independiente evitando que esté dentro del bucle recursivo\n",
        "def ordena_Lista(L):\n",
        "  L_ORDENADA= sorted(L,key=lambda x: x[0])           # Ordeno la lista\n",
        "  longLista=len(L_ORDENADA)    \n",
        "  for i in range(len(L_ORDENADA)):                   # Recorremos la lista en busca de puntos repetidos\n",
        "    if i<longLista-1:\n",
        "       if L_ORDENADA[i]==L_ORDENADA[i+1]:\n",
        "        return (0,[L_ORDENADA[i],L_ORDENADA[i+1]])   # Si encuentro dos puntos repetidos devuelvo distancia, punto A y punto B evitando entrar en bucle recursivo\n",
        "  return distancia_divide_venceras_AB(L_ORDENADA)    # Si no hay elementos repetidos llamo al algoritmo divide y venceras al que ya paso la lista ordenada"
      ],
      "execution_count": 0,
      "outputs": []
    },
    {
      "metadata": {
        "id": "PJNdzPV-KJvn",
        "colab_type": "code",
        "colab": {}
      },
      "cell_type": "code",
      "source": [
        "# Algorimo DIVIDE Y VENCERAS\n",
        "def distancia_divide_venceras_AB(L):\n",
        "  numero_Puntos = len(L)\n",
        "  if numero_Puntos <= 3:\n",
        "    return distancia_fuerza_bruta(L)\n",
        " \n",
        "  # Dividimos la lista  \n",
        "  LISTA_IZQ = L[:numero_Puntos//2]\n",
        "  LISTA_DER = L[numero_Puntos//2:]\n",
        "  PUNTO_PIVOTE = LISTA_IZQ[-1]\n",
        "  dIZQ, PUNTOS_LISTA_IZQ = distancia_divide_venceras_AB(LISTA_IZQ)\n",
        "  dDER, PUNTOS_LISTA_DER = distancia_divide_venceras_AB(LISTA_DER)\n",
        "  dMIN, PUNTOS_MIN= (dIZQ, PUNTOS_LISTA_IZQ) if dIZQ < dDER else (dDER, PUNTOS_LISTA_DER)    #Control de la distancia mínima para resolver los áreas cercanas al pivote\n",
        "\n",
        "  # Genero una lista de puntos dentro de dMIN respecto al pivote\n",
        "  cercanosdMIN =[punto for punto in L if distancia(punto,PUNTO_PIVOTE) <dMIN ]\n",
        "  nCercanosdMIN = len(cercanosdMIN)\n",
        "  if nCercanosdMIN > 1:\n",
        "    PUNTOS_INTERMEDIOS = cercanosdMIN\n",
        "  else:\n",
        "    PUNTOS_INTERMEDIOS = []\n",
        " \n",
        "  # Hay un caso de error cuando el punto pivote está en la lista de la derecha o izquierda además de la de puntos intermedios como sabemos que no había repetidos el la lista se eliminan\n",
        "  _PUNTOS_FINAL = PUNTOS_LISTA_IZQ+PUNTOS_INTERMEDIOS+PUNTOS_LISTA_DER\n",
        "  PUNTOS_FINAL =list(set(_PUNTOS_FINAL))\n",
        "\n",
        "  return distancia_fuerza_bruta (PUNTOS_FINAL)"
      ],
      "execution_count": 0,
      "outputs": []
    },
    {
      "metadata": {
        "colab_type": "code",
        "id": "9S1eG8Rpm122",
        "colab": {}
      },
      "cell_type": "code",
      "source": [
        "@calcular_tiempo\n",
        "def dist_div_venceras(L):\n",
        "  #Para Evitar entrar en recursivo para funciones como ordenar la lista o comprobar si hay dos repetidos los saco a dos funciones\n",
        "  \n",
        "  return ordena_Lista(L)"
      ],
      "execution_count": 0,
      "outputs": []
    },
    {
      "metadata": {
        "id": "ONxOJ8fNXlOW",
        "colab_type": "code",
        "colab": {
          "base_uri": "https://localhost:8080/",
          "height": 72
        },
        "outputId": "e7b2a461-b515-431d-c8ed-49ee119db2c2"
      },
      "cell_type": "code",
      "source": [
        "dist_div_venceras(LISTA_2D)"
      ],
      "execution_count": 108,
      "outputs": [
        {
          "output_type": "stream",
          "text": [
            "\n",
            "Tiempo de ejecución de la funcion 'dist_div_venceras': 39.17384 ms\n"
          ],
          "name": "stdout"
        },
        {
          "output_type": "execute_result",
          "data": {
            "text/plain": [
              "(7.280109889280518, [(8476, 3271), (8483, 3269)])"
            ]
          },
          "metadata": {
            "tags": []
          },
          "execution_count": 108
        }
      ]
    },
    {
      "metadata": {
        "id": "pHoVhoJLu8Bc",
        "colab_type": "text"
      },
      "cell_type": "markdown",
      "source": [
        "**ALGORITMO VIAJE POR EL RÍO - MEJORAS REALIZADAS**"
      ]
    },
    {
      "metadata": {
        "id": "1G9J5P0CvIHC",
        "colab_type": "text"
      },
      "cell_type": "markdown",
      "source": [
        "\n",
        "1.   El algoritmo original falla en punto intermedios, por ejemplo ir de 3 a 6\n",
        "2.   El algoritmo no permirtía calcular caminos posibles que existieran desde un nodo posterior a uno anterior. \n",
        "3.   Se ha corregido también la salida por pantalla indicando de forma correcta el camino, en el original se repetía el origen y no salía impreso el destino. También se puede ver ahora el peso del camino.\n",
        "4.   Se ha corregido errores cuando se pide rutas no existentes, como la origen 1 destino 2, el algorimo original devolvía 1,2. En realidad esa ruta no existe, lo he modificado teniendo presente los pesos que hemos puesto como límite"
      ]
    },
    {
      "metadata": {
        "id": "fpF7JX8Yvmod",
        "colab_type": "code",
        "colab": {}
      },
      "cell_type": "code",
      "source": [
        "TARIFAS = [\n",
        "    [0,5,4,3,999,999,999],           # Indica las tarifas de viajar desde el nodo 0 al resto de nodos lógicamente del 0 al 0 tiene una TARIFA de 0 y los nodos a los que no llego en directo tienen 999\n",
        "    [999,0,999,2,3,999,11],          # Indica las taridas de viajar desde el nodo 1 al resto de nodos \n",
        "    [999,999,0,1,999,4,10],          # Indica las taridas de viajar desde el nodo 2 al resto de nodos \n",
        "    [999,999,999,0,5,6,9],           # Indica las taridas de viajar desde el nodo 3 al resto de nodos \n",
        "    [999,999,999,999,0,999,4],       # Indica las taridas de viajar desde el nodo 4 al resto de nodos \n",
        "    [999,999,999,999,999,0,3],       # Indica las taridas de viajar desde el nodo 5 al resto de nodos \n",
        "    [999,999,999,999,999,999,0]      # Indica las taridas de viajar desde el nodo 6 al resto de nodos, como no hay vueltra atrá la tarifa es siempre 999 salvo cuando viaja de uno a si mismo\n",
        "]"
      ],
      "execution_count": 0,
      "outputs": []
    },
    {
      "metadata": {
        "id": "pW8c9NB-CzVb",
        "colab_type": "code",
        "colab": {}
      },
      "cell_type": "code",
      "source": [
        "# VIAJE POR EL RIO\n",
        "def precios(TARIFAS):\n",
        "  N=len(TARIFAS[0])\n",
        " \n",
        "  PRECIOS = [[999]*N for i in [999]*N]      # Definición de matriz cuadrada de NxN con todos los elementos inicialidos a 9999, es mayor que cualquier valor de la tabla TARIFAS\n",
        "  RUTA =[[\"\"]*N for i in [\"\"]*N]\n",
        "  \n",
        " \n",
        "  for i in range(N-1):\n",
        "    for j in range (i+1,N):\n",
        "      MIN = TARIFAS[i][j]\n",
        "      RUTA[i][j]=i    \n",
        "\n",
        "      for k in range(i,N):\n",
        "        if k != j: # Para control de errores si miro un nodo contra si mismo el peso es 0\n",
        "          if PRECIOS[i][k]+TARIFAS[k][j] < MIN:\n",
        "            MIN= min(MIN,PRECIOS[i][k]+TARIFAS[k][j])\n",
        "            RUTA[i][j] = k\n",
        "      PRECIOS[i][j]=MIN\n",
        "  return PRECIOS, RUTA\n"
      ],
      "execution_count": 0,
      "outputs": []
    },
    {
      "metadata": {
        "id": "NBErBO90GGXc",
        "colab_type": "code",
        "colab": {}
      },
      "cell_type": "code",
      "source": [
        "def calcular_ruta(PRECIO, RUTA, desde, hasta):\n",
        "  if desde == hasta:\n",
        "    return str(desde)      \n",
        "  else:\n",
        "    if PRECIO[desde][hasta]>=999:\n",
        "      return str('ESTA RUTA NO EXISTE')\n",
        "    return calcular_ruta(PRECIO, RUTA,desde,RUTA[desde][hasta]) + ','+ str(hasta)\n",
        "  "
      ],
      "execution_count": 0,
      "outputs": []
    },
    {
      "metadata": {
        "id": "3V9bwhq8Dup_",
        "colab_type": "code",
        "colab": {
          "base_uri": "https://localhost:8080/",
          "height": 90
        },
        "outputId": "675ea499-901d-44b6-e0a4-2a6eb5b47d5d"
      },
      "cell_type": "code",
      "source": [
        "PRECIO, RUTA= precios(TARIFAS)\n",
        "d=1\n",
        "h=6\n",
        "\n",
        "print('\\nLa ruta desde',d,\"hasta\",h,'pasa por:')\n",
        "print(calcular_ruta(PRECIO, RUTA, d,h))\n",
        "if PRECIO[d][h]< 999:\n",
        "  print('Y tiene un coste de: ',PRECIO[d][h])\n"
      ],
      "execution_count": 99,
      "outputs": [
        {
          "output_type": "stream",
          "text": [
            "\n",
            "La ruta desde 1 hasta 6 pasa por:\n",
            "1,4,6\n",
            "Y tiene un coste de:  7\n"
          ],
          "name": "stdout"
        }
      ]
    }
  ]
}
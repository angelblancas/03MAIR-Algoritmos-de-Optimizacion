{
  "nbformat": 4,
  "nbformat_minor": 0,
  "metadata": {
    "colab": {
      "name": "AG2-Angel Blancas.ipynb",
      "version": "0.3.2",
      "provenance": [],
      "collapsed_sections": [],
      "include_colab_link": true
    },
    "kernelspec": {
      "name": "python3",
      "display_name": "Python 3"
    }
  },
  "cells": [
    {
      "cell_type": "markdown",
      "metadata": {
        "id": "view-in-github",
        "colab_type": "text"
      },
      "source": [
        "<a href=\"https://colab.research.google.com/github/angelblancas/03MAIR-Algoritmos-de-Optimizacion/blob/master/AG2/AG2_Angel_Blancas.ipynb\" target=\"_parent\"><img src=\"https://colab.research.google.com/assets/colab-badge.svg\" alt=\"Open In Colab\"/></a>"
      ]
    },
    {
      "metadata": {
        "id": "4DFXUsEHijOx",
        "colab_type": "text"
      },
      "cell_type": "markdown",
      "source": [
        " Ángel Blancas García - AG2<br>\n",
        " Actividad Guiada<br>\n",
        " URL: [https://github.com/angelblancas/03MAIR-Algoritmos-de-Optimizacion/tree/master/AG2](https://github.com/angelblancas/03MAIR-Algoritmos-de-Optimizacion/tree/master/AG2)"
      ]
    },
    {
      "metadata": {
        "id": "aAV2MlFEsZhT",
        "colab_type": "text"
      },
      "cell_type": "markdown",
      "source": [
        "**ALGORITMO MENOR DISTANCIA ENTRE DOS PUNTOS - MEJORAS REALIZADAS:**"
      ]
    },
    {
      "metadata": {
        "id": "eABBP25JslAh",
        "colab_type": "text"
      },
      "cell_type": "markdown",
      "source": [
        "1.   Resuelvo la zona de los puntos que quedan a uno y otro lado del pivote dentro de la función recursiva teniendo en cuenta posibles repeticiones del punto pivote en las listas\n",
        "2.   Control de varios errores, por ejemplo si llega un solo elemento en la lista, si llegan elementos de diferente longitud, se deja batería de pruebas en la definición de la lista 2D\n",
        "3.   Función de ordenación de la lista fuera del bucle de recursividad para mejorar tiempos\n",
        "4.   Antes de inciar la recursividad compruebo si hay puntos repetidos en la lista, si los hay la menor distancia es 0 con esos puntos\n",
        "5.   Devolución además de los dos puntos de la distancia.\n",
        "\n"
      ]
    },
    {
      "metadata": {
        "id": "42T50jxKEkFI",
        "colab_type": "code",
        "colab": {}
      },
      "cell_type": "code",
      "source": [
        "#Decorador para calculo del tiempo de una función modificado para mejor salida de información\n",
        "from time import time\n",
        "def calcular_tiempo(f):\n",
        "  def wrapped(*args, **kw):\n",
        "    ti = time()\n",
        "    result = f(*args, **kw)\n",
        "    te = time() - ti\n",
        "    print ('\\nTiempo de ejecución de la funcion %r: %2.5f ms'%(f.__name__,te*1000))\n",
        "    return result\n",
        "  return wrapped"
      ],
      "execution_count": 0,
      "outputs": []
    },
    {
      "metadata": {
        "id": "-TupE9SCl6GQ",
        "colab_type": "code",
        "colab": {}
      },
      "cell_type": "code",
      "source": [
        "# Importación de librerías necesarias\n",
        "import random\n",
        "import math\n",
        "import numpy as np"
      ],
      "execution_count": 0,
      "outputs": []
    },
    {
      "metadata": {
        "id": "0ONWfqPvm-MQ",
        "colab_type": "code",
        "colab": {}
      },
      "cell_type": "code",
      "source": [
        "# Definición de lista 2D\n",
        "N= 1000 # Número de elementos para el modelo aleatorio\n",
        "LISTA_2D= [(random.randrange(1,N*10), random.randrange(1,N*10))for _ in range(N)] # Modelo aleatorio\n",
        "#LISTA_2D=[(0,5)] # Control de error para cuando llega un solo elemento en la lista\n",
        "#LISTA_2D=[(0,5),(2,)]\n",
        "#LISTA_2D=[(0,0),(10,0),(20,0),(25,0),(89,0),(45,0),(46,0),(48,0),(66,0),(70,0),(80,0),(25,0),(80,0)] # Modelo no aleatorio para probar cuando hay puntos repetidos\n",
        "#LISTA_2D=[(0,0),(2,0),(20,0),(25,0),(35,0),(45,0),(46,0),(48,0),(66,0),(70,0),(80,0),(90,0)] # Modelo no aleatorio para probar la zona cercana a los pivotes \n",
        "\n",
        "#print (LISTA_2D)\n",
        "#print ('Longitud de la lista: ',len(LISTA_2D))"
      ],
      "execution_count": 0,
      "outputs": []
    },
    {
      "metadata": {
        "id": "Pyh-OuLniKZ6",
        "colab_type": "code",
        "colab": {}
      },
      "cell_type": "code",
      "source": [
        "# Función Distancia entre dos elementos A y B\n",
        "def distancia (A,B):\n",
        "  if type(A) is int or type(A) is float: # Si estamos ante un elemento entero o flotante\n",
        "    return abs(B-A)\n",
        "  else:                                  # Si estamos ante elementos n dimensionales\n",
        "    if(len(A)==len(B)):\n",
        "      return math.sqrt(sum([(A[i]-B[i])**2 for i in range(len(A))]))\n",
        "    else:\n",
        "      print('# ERROR (distancia): Los parámetros deben tener la misma longitud') \n",
        "      return -1 \n",
        "      "
      ],
      "execution_count": 0,
      "outputs": []
    },
    {
      "metadata": {
        "id": "KohV4Gyulu2E",
        "colab_type": "code",
        "colab": {}
      },
      "cell_type": "code",
      "source": [
        "# Algoritmo FUERZA BRUTA\n",
        "def distancia_fuerza_bruta(L):\n",
        "                              # Como vamos a medir múltiples veces la longitud lo almaceno en una variable\n",
        "  numero_Puntos = len(L)\n",
        "  if numero_Puntos<2:         # Control de errores por si llegan 1 o ningún punto.\n",
        "    print('# ERROR (distancia_fuerza_bruta): Esto es un problema, no deberías pedirme calcular distancia si no hay mínimo dos puntos')\n",
        "    return  \n",
        "  mejor_distancia = 100000e10 # Inicializamos con un valor muy alto para asegurarnos cumplimiento\n",
        "  A,B=(),()                   # Almacenamos los Mejores valores encontrados hasta el momento\n",
        "  for i in range(numero_Puntos):\n",
        "    for j in range(i+1,numero_Puntos):\n",
        "      d= distancia(L[i],L[j])\n",
        "      if  d < mejor_distancia:\n",
        "        A,B = L[i], L[j]\n",
        "        mejor_distancia = d\n",
        "  return (mejor_distancia,[A,B]) \n",
        "  "
      ],
      "execution_count": 0,
      "outputs": []
    },
    {
      "metadata": {
        "colab_type": "code",
        "id": "Ml00V5Afm3aW",
        "colab": {}
      },
      "cell_type": "code",
      "source": [
        "# Debido a que esta acción se realizará una sola vez lo separamos en función independiente evitando que esté dentro del bucle recursivo\n",
        "def ordena_Lista(L):\n",
        "  L_ORDENADA= sorted(L,key=lambda x: x[0])           # Ordeno la lista\n",
        "  longLista=len(L_ORDENADA)    \n",
        "  for i in range(len(L_ORDENADA)):                   # Recorremos la lista en busca de puntos repetidos\n",
        "    if i<longLista-1:\n",
        "       if L_ORDENADA[i]==L_ORDENADA[i+1]:\n",
        "        return (0,[L_ORDENADA[i],L_ORDENADA[i+1]])   # Si encuentro dos puntos repetidos devuelvo distancia, punto A y punto B evitando entrar en bucle recursivo\n",
        "  return distancia_divide_venceras_AB(L_ORDENADA)    # Si no hay elementos repetidos llamo al algoritmo divide y venceras al que ya paso la lista ordenada"
      ],
      "execution_count": 0,
      "outputs": []
    },
    {
      "metadata": {
        "id": "PJNdzPV-KJvn",
        "colab_type": "code",
        "colab": {}
      },
      "cell_type": "code",
      "source": [
        "# Algorimo DIVIDE Y VENCERAS\n",
        "def distancia_divide_venceras_AB(L):\n",
        "  numero_Puntos = len(L)\n",
        "  if numero_Puntos <= 3:\n",
        "    return distancia_fuerza_bruta(L)\n",
        " \n",
        "  # Dividimos la lista  \n",
        "  LISTA_IZQ = L[:numero_Puntos//2]\n",
        "  LISTA_DER = L[numero_Puntos//2:]\n",
        "  PUNTO_PIVOTE = LISTA_IZQ[-1]\n",
        "  dIZQ, PUNTOS_LISTA_IZQ = distancia_divide_venceras_AB(LISTA_IZQ)\n",
        "  dDER, PUNTOS_LISTA_DER = distancia_divide_venceras_AB(LISTA_DER)\n",
        "  dMIN, PUNTOS_MIN= (dIZQ, PUNTOS_LISTA_IZQ) if dIZQ < dDER else (dDER, PUNTOS_LISTA_DER)    #Control de la distancia mínima para resolver los áreas cercanas al pivote\n",
        "\n",
        "  # Genero una lista de puntos dentro de dMIN respecto al pivote\n",
        "  cercanosdMIN =[punto for punto in L if distancia(punto,PUNTO_PIVOTE) <dMIN ]\n",
        "  nCercanosdMIN = len(cercanosdMIN)\n",
        "  if nCercanosdMIN > 1:\n",
        "    PUNTOS_INTERMEDIOS = cercanosdMIN\n",
        "  else:\n",
        "    PUNTOS_INTERMEDIOS = []\n",
        " \n",
        "  # Hay un caso de error cuando el punto pivote está en la lista de la derecha o izquierda además de la de puntos intermedios como sabemos que no había repetidos el la lista se eliminan\n",
        "  _PUNTOS_FINAL = PUNTOS_LISTA_IZQ+PUNTOS_INTERMEDIOS+PUNTOS_LISTA_DER\n",
        "  PUNTOS_FINAL =list(set(_PUNTOS_FINAL))\n",
        "\n",
        "  return distancia_fuerza_bruta (PUNTOS_FINAL)"
      ],
      "execution_count": 0,
      "outputs": []
    },
    {
      "metadata": {
        "colab_type": "code",
        "id": "9S1eG8Rpm122",
        "colab": {}
      },
      "cell_type": "code",
      "source": [
        "@calcular_tiempo\n",
        "def dist_div_venceras(L):\n",
        "  #Para Evitar entrar en recursivo para funciones como ordenar la lista o comprobar si hay dos repetidos los saco a dos funciones\n",
        "  \n",
        "  return ordena_Lista(L)"
      ],
      "execution_count": 0,
      "outputs": []
    },
    {
      "metadata": {
        "id": "ONxOJ8fNXlOW",
        "colab_type": "code",
        "outputId": "b0ceb425-eec4-458e-9d0c-a51443c2c29e",
        "colab": {
          "base_uri": "https://localhost:8080/",
          "height": 72
        }
      },
      "cell_type": "code",
      "source": [
        "dist_div_venceras(LISTA_2D)"
      ],
      "execution_count": 0,
      "outputs": [
        {
          "output_type": "stream",
          "text": [
            "\n",
            "Tiempo de ejecución de la funcion 'dist_div_venceras': 36.53836 ms\n"
          ],
          "name": "stdout"
        },
        {
          "output_type": "execute_result",
          "data": {
            "text/plain": [
              "(7.0710678118654755, [(3229, 423), (3222, 424)])"
            ]
          },
          "metadata": {
            "tags": []
          },
          "execution_count": 107
        }
      ]
    },
    {
      "metadata": {
        "id": "pHoVhoJLu8Bc",
        "colab_type": "text"
      },
      "cell_type": "markdown",
      "source": [
        "**ALGORITMO VIAJE POR EL RÍO - MEJORAS REALIZADAS**"
      ]
    },
    {
      "metadata": {
        "id": "1G9J5P0CvIHC",
        "colab_type": "text"
      },
      "cell_type": "markdown",
      "source": [
        "\n",
        "1.   El algoritmo original falla en punto intermedios, por ejemplo ir de 3 a 6\n",
        "2.   El algoritmo no permirtía calcular caminos posibles que existieran desde un nodo posterior a uno anterior. \n",
        "3.   Se ha corregido también la salida por pantalla indicando de forma correcta el camino, en el original se repetía el origen y no salía impreso el destino. También se puede ver ahora el peso del camino.\n",
        "4.   Se ha corregido errores cuando se pide rutas no existentes, como la origen 1 destino 2, el algorimo original devolvía 1,2. En realidad esa ruta no existe, lo he modificado teniendo presente los pesos que hemos puesto como límite"
      ]
    },
    {
      "metadata": {
        "id": "fpF7JX8Yvmod",
        "colab_type": "code",
        "colab": {}
      },
      "cell_type": "code",
      "source": [
        "TARIFAS = [\n",
        "    [0,5,4,3,999,999,999],           # Indica las tarifas de viajar desde el nodo 0 al resto de nodos lógicamente del 0 al 0 tiene una TARIFA de 0 y los nodos a los que no llego en directo tienen 999\n",
        "    [999,0,999,2,3,999,11],          # Indica las taridas de viajar desde el nodo 1 al resto de nodos \n",
        "    [999,999,0,1,999,4,10],          # Indica las taridas de viajar desde el nodo 2 al resto de nodos \n",
        "    [999,999,999,0,5,6,9],           # Indica las taridas de viajar desde el nodo 3 al resto de nodos \n",
        "    [999,999,999,999,0,999,4],       # Indica las taridas de viajar desde el nodo 4 al resto de nodos \n",
        "    [999,999,999,999,999,0,3],       # Indica las taridas de viajar desde el nodo 5 al resto de nodos \n",
        "    [999,999,999,999,999,999,0]      # Indica las taridas de viajar desde el nodo 6 al resto de nodos, como no hay vueltra atrá la tarifa es siempre 999 salvo cuando viaja de uno a si mismo\n",
        "]"
      ],
      "execution_count": 0,
      "outputs": []
    },
    {
      "metadata": {
        "id": "pW8c9NB-CzVb",
        "colab_type": "code",
        "colab": {}
      },
      "cell_type": "code",
      "source": [
        "# VIAJE POR EL RIO\n",
        "def precios(TARIFAS):\n",
        "  N=len(TARIFAS[0])\n",
        " \n",
        "  PRECIOS = [[9999]*N for i in [9999]*N]      # Definición de matriz cuadrada de NxN con todos los elementos inicialidos a 9999, es mayor que cualquier valor de la tabla TARIFAS\n",
        "  RUTA =[[\"\"]*N for i in [\"\"]*N]\n",
        "  \n",
        " \n",
        "  for i in range(N-1):\n",
        "    for j in range (N):\n",
        "      MIN = TARIFAS[i][j]\n",
        "      RUTA[i][j]=i    \n",
        "      for k in range(i,N):\n",
        "        if k != j: \n",
        "          if PRECIOS[i][k] == 9999:     # Implica que este camino aún no está evaluado\n",
        "            if TARIFAS[i][k]+TARIFAS[k][j] < MIN:\n",
        "              MIN= min(MIN,TARIFAS[i][k]+TARIFAS[k][j])\n",
        "              RUTA[i][j] = k\n",
        "          elif PRECIOS[i][k]+TARIFAS[k][j] < MIN:\n",
        "            MIN= min(MIN,PRECIOS[i][k]+TARIFAS[k][j])\n",
        "            RUTA[i][j] = k\n",
        "        PRECIOS[i][j]=MIN\n",
        "  return PRECIOS, RUTA\n"
      ],
      "execution_count": 0,
      "outputs": []
    },
    {
      "metadata": {
        "id": "NBErBO90GGXc",
        "colab_type": "code",
        "colab": {}
      },
      "cell_type": "code",
      "source": [
        "def calcular_ruta(PRECIO, RUTA, desde, hasta):\n",
        "  if desde == hasta:\n",
        "    return str(desde)      \n",
        "  else:\n",
        "    if PRECIO[desde][hasta]>=999:\n",
        "      return str('ESTA RUTA NO EXISTE')\n",
        "    return calcular_ruta(PRECIO, RUTA,desde,RUTA[desde][hasta]) + ','+ str(hasta)\n",
        "  "
      ],
      "execution_count": 0,
      "outputs": []
    },
    {
      "metadata": {
        "id": "3V9bwhq8Dup_",
        "colab_type": "code",
        "outputId": "ce2a0bb3-dfdf-40ed-a2f5-cfeb16574b0e",
        "colab": {
          "base_uri": "https://localhost:8080/",
          "height": 90
        }
      },
      "cell_type": "code",
      "source": [
        "PRECIO, RUTA= precios(TARIFAS)\n",
        "d=0\n",
        "h=6\n",
        "\n",
        "print('\\nLa ruta desde',d,\"hasta\",h,'pasa por:')\n",
        "print(calcular_ruta(PRECIO, RUTA, d,h))\n",
        "if PRECIO[d][h]< 999:\n",
        "  print('Y tiene un coste de: ',PRECIO[d][h])\n"
      ],
      "execution_count": 115,
      "outputs": [
        {
          "output_type": "stream",
          "text": [
            "\n",
            "La ruta desde 0 hasta 6 pasa por:\n",
            "0,2,5,6\n",
            "Y tiene un coste de:  11\n"
          ],
          "name": "stdout"
        }
      ]
    }
  ]
}
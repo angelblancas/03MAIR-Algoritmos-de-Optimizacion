{
  "nbformat": 4,
  "nbformat_minor": 0,
  "metadata": {
    "colab": {
      "name": "AG1-Angel_Blancas.ipynb",
      "version": "0.3.2",
      "provenance": [],
      "include_colab_link": true
    },
    "kernelspec": {
      "name": "python3",
      "display_name": "Python 3"
    }
  },
  "cells": [
    {
      "cell_type": "markdown",
      "metadata": {
        "id": "view-in-github",
        "colab_type": "text"
      },
      "source": [
        "<a href=\"https://colab.research.google.com/github/angelblancas/03MAIR-Algoritmos-de-Optimizacion/blob/master/AG1/AG1_Angel_Blancas.ipynb\" target=\"_parent\"><img src=\"https://colab.research.google.com/assets/colab-badge.svg\" alt=\"Open In Colab\"/></a>"
      ]
    },
    {
      "metadata": {
        "id": "fL6C6sT4QJaE",
        "colab_type": "text"
      },
      "cell_type": "markdown",
      "source": [
        "<b>AG1 - Actividad Guiada 1</b><br/>\n",
        "\n",
        "Ángel Blancas García<br/>\n",
        "\n",
        "https://github.com/angelblancas/03MAIR-Algoritmos-de-Optimizacion/tree/master/AG1<br/>"
      ]
    },
    {
      "metadata": {
        "id": "ninvEJBooMch",
        "colab_type": "text"
      },
      "cell_type": "markdown",
      "source": [
        "Función decorador **modificada** para obtener una salida de información más limpia (en milisegundos y con información sobre la función)"
      ]
    },
    {
      "metadata": {
        "id": "hu3XD8Tlfe7f",
        "colab_type": "code",
        "colab": {}
      },
      "cell_type": "code",
      "source": [
        "#Decorador para calculo del tiempo de una función modificado para mejor salida de información\n",
        "from time import time\n",
        "def calcular_tiempo(f):\n",
        "  def wrapped(*args, **kw):\n",
        "    ti = time()\n",
        "    result = f(*args, **kw)\n",
        "    te = time() - ti\n",
        "    print ('\\nTiempo de ejecución de la funcion %r: %2.5f ms'%(f.__name__,te*1000))\n",
        "    return result\n",
        "  return wrapped"
      ],
      "execution_count": 0,
      "outputs": []
    },
    {
      "metadata": {
        "id": "tkaIHVlWqOFh",
        "colab_type": "text"
      },
      "cell_type": "markdown",
      "source": [
        "# **ALGORITMO QUICK SORT CON TÉCNICA DIVIDE Y VENCERÁS**"
      ]
    },
    {
      "metadata": {
        "id": "xiRER-YUoYVt",
        "colab_type": "text"
      },
      "cell_type": "markdown",
      "source": [
        "Algorimo quick sort visto durante la práctica de clase.** Es un algoritmo incompleto ya que tiene un error cuándo nos encontramos ante una lista con varios valores iguales**. Corrijo el error en mis siguientes aportaciones. Dejo comentadas líneas que he utilizado durante las pruebas."
      ]
    },
    {
      "metadata": {
        "id": "ifXUCxNSQ_lU",
        "colab_type": "code",
        "colab": {
          "base_uri": "https://localhost:8080/",
          "height": 53
        },
        "outputId": "001f232e-8340-4890-a06c-11fe315b1d2f"
      },
      "cell_type": "code",
      "source": [
        "#Algoritmo quick Sort según práctica de clase\n",
        "#import random\n",
        "#B=list(map(lambda x: random.randrange(1,10000), range(1,300)))\n",
        "A = [9187,244,4054,9222,8373,4993,5265,5470,4519,7182,2035,3506,4337,7580,2554,2824,8357,4447,7379]\n",
        "# A = [1,2,2,2,3] # Este caso produce un error al igual que 1, 1, 1, etc.\n",
        "\n",
        "def quick_sort(A):\n",
        "  if len(A) ==1:\n",
        "    return A\n",
        "  elif len(A) ==2:\n",
        "    return [min(A), max(A)]\n",
        "  else:\n",
        "    IZQ=[]\n",
        "    DER=[]\n",
        "    pivote = (A[0]+A[1]+A[2])/3\n",
        "    for i in A:\n",
        "      if i<pivote:\n",
        "        IZQ.append(i)\n",
        "      else:\n",
        "        DER.append(i)\n",
        "    return quick_sort(IZQ)+quick_sort(DER)\n",
        "  \n",
        "\n",
        "@calcular_tiempo\n",
        "def QS(A):\n",
        "  return quick_sort(A)\n",
        "\n",
        "print(QS(A))"
      ],
      "execution_count": 10,
      "outputs": [
        {
          "output_type": "stream",
          "text": [
            "Tiempo de ejecución de la funcion 'QS': 0.03672 ms\n",
            "[244, 2035, 2554, 2824, 3506, 4054, 4337, 4447, 4519, 4993, 5265, 5470, 7182, 7379, 7580, 8357, 8373, 9187, 9222]\n"
          ],
          "name": "stdout"
        }
      ]
    },
    {
      "metadata": {
        "id": "JHoTDZ5bpghZ",
        "colab_type": "text"
      },
      "cell_type": "markdown",
      "source": [
        "El siguiente algoritmo se realiza atendiendo al** cálculo del pivote mediante la mediana, corrigiendo el error** de caso en que tenemos valores repetidos, la complejidad es mayor debido al cálculo de la media en cada iteración y al cálculo del máximo y mínimo"
      ]
    },
    {
      "metadata": {
        "id": "85f3Weogdcr_",
        "colab_type": "code",
        "colab": {
          "base_uri": "https://localhost:8080/",
          "height": 53
        },
        "outputId": "58798a0f-a681-4d1a-bd26-efafabe88a7a"
      },
      "cell_type": "code",
      "source": [
        "#Algoritmo quick Sort utilizando la mediana\n",
        "#import random\n",
        "#B=list(map(lambda x: random.randrange(1,10000), range(1,300)))\n",
        "import statistics as stats\n",
        "A = [9187,244,4054,9222,8373,4993,5265,5470,4519,7182,2035,3506,4337,7580,2554,2824,8357,4447,7379]\n",
        "#A = [1,2,2,2,3]\n",
        "\n",
        "def quick_sort_v2(A):\n",
        "  if len(A) ==1:\n",
        "    return A\n",
        "  elif len(A) ==2:\n",
        "    return [min(A), max(A)]\n",
        "  elif min(A)==max(A):\n",
        "    return A\n",
        "  else:\n",
        "    IZQ=[]\n",
        "    DER=[]\n",
        "    pivote= (stats.mean(A))  \n",
        "    for i in A:\n",
        "      if i<pivote:\n",
        "        IZQ.append(i)\n",
        "      else:\n",
        "        DER.append(i)\n",
        "    return quick_sort_v2(IZQ)+quick_sort_v2(DER)\n",
        "  \n",
        "\n",
        "@calcular_tiempo\n",
        "def QS(A):\n",
        "  return quick_sort_v2(A)\n",
        "\n",
        "print(QS(A))"
      ],
      "execution_count": 11,
      "outputs": [
        {
          "output_type": "stream",
          "text": [
            "Tiempo de ejecución de la funcion 'QS': 0.33879 ms\n",
            "[244, 2035, 2554, 2824, 3506, 4054, 4337, 4447, 4519, 4993, 5265, 5470, 7182, 7379, 7580, 8357, 8373, 9187, 9222]\n"
          ],
          "name": "stdout"
        }
      ]
    },
    {
      "metadata": {
        "id": "8zbZZHqpu_wd",
        "colab_type": "text"
      },
      "cell_type": "markdown",
      "source": [
        "Última versión propuesta, con menos líneas de código eliminando el cálculo del pivote y seleccionando siempre el primero, además corrigiendo de forma intrínseca el error de algoritmos propuesto en clase."
      ]
    },
    {
      "metadata": {
        "id": "r-sLem7tYyNX",
        "colab_type": "code",
        "colab": {
          "base_uri": "https://localhost:8080/",
          "height": 53
        },
        "outputId": "bb614819-e213-4ae4-fe8e-01f181ecb27a"
      },
      "cell_type": "code",
      "source": [
        "#Algoritmo quick Sort seleccionando el pivote siempre como el primer elemento de la lista\n",
        "\n",
        "A = [9187,244,4054,9222,8373,4993,5265,5470,4519,7182,2035,3506,4337,7580,2554,2824,8357,4447,7379]\n",
        "#A = [1,1,1,1,1]\n",
        "def quicksort(A):\n",
        "    IZQ=[]\n",
        "    DER=[]\n",
        "    if len(A) <= 1:\n",
        "        return A\n",
        "    for i in A[1:]:\n",
        "        if i < A[0]:\n",
        "            IZQ.append(i)\n",
        "        else:\n",
        "            DER.append(i)\n",
        "    return quicksort(IZQ)+A[0:1]+quicksort(DER)\n",
        "    \n",
        "\n",
        "@calcular_tiempo\n",
        "def QS(A):\n",
        "  return quicksort(A)\n",
        "\n",
        "print(QS(A))"
      ],
      "execution_count": 12,
      "outputs": [
        {
          "output_type": "stream",
          "text": [
            "Tiempo de ejecución de la funcion 'QS': 0.04601 ms\n",
            "[244, 2035, 2554, 2824, 3506, 4054, 4337, 4447, 4519, 4993, 5265, 5470, 7182, 7379, 7580, 8357, 8373, 9187, 9222]\n"
          ],
          "name": "stdout"
        }
      ]
    },
    {
      "metadata": {
        "id": "FA18G6u_vjMc",
        "colab_type": "text"
      },
      "cell_type": "markdown",
      "source": [
        "# **ALGORITMO VORÁZ: CAMBIO DE MONEDAS**"
      ]
    },
    {
      "metadata": {
        "id": "rBgQpKvncNtW",
        "colab_type": "code",
        "colab": {
          "base_uri": "https://localhost:8080/",
          "height": 53
        },
        "outputId": "56ca0462-edfb-4328-f9c9-da42fbb431ae"
      },
      "cell_type": "code",
      "source": [
        "sistema_monetario =[25,10,5,1]\n",
        "@calcular_tiempo\n",
        "def cambio_monedas(C, SISTEMA):\n",
        "  SOLUCION =[0 for i in range(len(SISTEMA))]\n",
        "  VALOR_ACUMULADO =0\n",
        "  \n",
        "  for i in range(len(SISTEMA)):\n",
        "    monedas = int((C - VALOR_ACUMULADO)/SISTEMA[i])\n",
        "    SOLUCION[i]=monedas\n",
        "    VALOR_ACUMULADO += monedas*SISTEMA[i]\n",
        "    if (C== VALOR_ACUMULADO):\n",
        "      return SOLUCION\n",
        "  \n",
        "  \n",
        "print(cambio_monedas(99,sistema_monetario))"
      ],
      "execution_count": 13,
      "outputs": [
        {
          "output_type": "stream",
          "text": [
            "Tiempo de ejecución de la funcion 'cambio_monedas': 0.00834 ms\n",
            "[3, 2, 0, 4]\n"
          ],
          "name": "stdout"
        }
      ]
    },
    {
      "metadata": {
        "id": "c9iwEJeWBvHu",
        "colab_type": "text"
      },
      "cell_type": "markdown",
      "source": [
        "# **ALGORITMO VUELTA ATRÁS: LAS 4 REINAS**"
      ]
    },
    {
      "metadata": {
        "id": "0vXe53Jc7dJM",
        "colab_type": "code",
        "colab": {
          "base_uri": "https://localhost:8080/",
          "height": 341
        },
        "outputId": "e8f4b260-ca5a-49ae-fe12-2a805e74d7ad"
      },
      "cell_type": "code",
      "source": [
        "N=4 # Número de reinas\n",
        "solucion =[0 for i in range(N)]\n",
        "etapa = 0\n",
        "\n",
        "#Funcion que comprueba si una solución es prometedora\n",
        "def es_prometedora(S, etapa):\n",
        "  # Recorremos cada columna del tablero\n",
        "  for i in range(etapa+1):\n",
        "    #Verifica si las reinas estan en la misma fila\n",
        "    if S.count(S[i])>1:\n",
        "      return False\n",
        "    #Verifica las diagonales\n",
        "    for j in range(i+1, etapa+1):\n",
        "      if abs(i-j) == abs(S[i]-S[j]):\n",
        "        return False\n",
        "  return True\n",
        "\n",
        "def escribe(S):\n",
        "  n= len(S)\n",
        "  for x in range(n):\n",
        "    print(\"\")\n",
        "    for i in range(n):\n",
        "      if solucion[i]==x+1:\n",
        "        print(\" X \", end=\"\")\n",
        "      else:\n",
        "        print(\" - \", end=\"\")\n",
        "\n",
        "def reinas(N, solucion, etapa):\n",
        "  for i in range(1, N+1):\n",
        "    solucion[etapa] = i\n",
        "    if es_prometedora(solucion, etapa):\n",
        "      if etapa == N-1:\n",
        "        print('\\n\\nLa solución es:')\n",
        "        print(solucion)\n",
        "        escribe(solucion)\n",
        "      else:\n",
        "        reinas(N, solucion, etapa+1)\n",
        "    else:\n",
        "      None\n",
        "    solucion[etapa] = 0\n",
        "\n",
        "@calcular_tiempo    \n",
        "def TiempoReinas (N,S,E):\n",
        "  return reinas(N,S,E)\n",
        "\n",
        "\n",
        "TiempoReinas(N, solucion, etapa)  \n",
        "    \n",
        "    "
      ],
      "execution_count": 26,
      "outputs": [
        {
          "output_type": "stream",
          "text": [
            "\n",
            "\n",
            "La solución es:\n",
            "[2, 4, 1, 3]\n",
            "\n",
            " -  -  X  - \n",
            " X  -  -  - \n",
            " -  -  -  X \n",
            " -  X  -  - \n",
            "\n",
            "La solución es:\n",
            "[3, 1, 4, 2]\n",
            "\n",
            " -  X  -  - \n",
            " -  -  -  X \n",
            " X  -  -  - \n",
            " -  -  X  - \n",
            "Tiempo de ejecución de la funcion 'TiempoReinas': 4.36378 ms\n"
          ],
          "name": "stdout"
        }
      ]
    }
  ]
}
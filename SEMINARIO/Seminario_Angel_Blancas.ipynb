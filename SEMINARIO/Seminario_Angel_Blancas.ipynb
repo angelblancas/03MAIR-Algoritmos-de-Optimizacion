{
  "nbformat": 4,
  "nbformat_minor": 0,
  "metadata": {
    "colab": {
      "name": "Seminario_Angel_Blancas.ipynb",
      "version": "0.3.2",
      "provenance": [],
      "collapsed_sections": [],
      "include_colab_link": true
    },
    "kernelspec": {
      "name": "python3",
      "display_name": "Python 3"
    }
  },
  "cells": [
    {
      "cell_type": "markdown",
      "metadata": {
        "id": "view-in-github",
        "colab_type": "text"
      },
      "source": [
        "<a href=\"https://colab.research.google.com/github/angelblancas/03MAIR-Algoritmos-de-Optimizacion/blob/master/SEMINARIO/Seminario_Angel_Blancas.ipynb\" target=\"_parent\"><img src=\"https://colab.research.google.com/assets/colab-badge.svg\" alt=\"Open In Colab\"/></a>"
      ]
    },
    {
      "metadata": {
        "id": "hubw53JaKnKh",
        "colab_type": "text"
      },
      "cell_type": "markdown",
      "source": [
        "# Algoritmos de optimización - Seminario<br>\n",
        "Ángel Blancas García<br>\n",
        "URL: [texto del https://github.com/angelblancas/03MAIR-Algoritmos-de-Optimizacion/tree/master/SEMINARIO](https://github.com/angelblancas/03MAIR-Algoritmos-de-Optimizacion/tree/master/SEMINARIO)<br>\n",
        "Problema elegido:\n",
        ">3. Combinar cifras y operaciones\n",
        "\n",
        "<b>Descripción del problema:</b>(copiar enunciado)\n",
        "\n",
        "\n",
        "\n",
        "(*) La respuesta es obligatoria"
      ]
    },
    {
      "metadata": {
        "id": "dQnesrCtYiyS",
        "colab_type": "text"
      },
      "cell_type": "markdown",
      "source": [
        "<h3>RESPUESTA - ENUNCIADO:</h3>\n",
        "\n",
        "\n",
        "---\n",
        "\n",
        "\n",
        "El problema consiste en analizar el siguiente problema y diseñar un algoritmo que lo resuelva<br>\n",
        "Disponemos de las 9 cifras del 1 al 9 (excluimos el cero) y de los 4 signos básicos de las\n",
        "operaciones fundamentales: suma(+), resta(-), multiplicación(*) y división(/)<br>\n",
        "Debemos combinarlos alternativamente sin repetir ninguno de ellos para obtener una\n",
        "cantidad dada. Un ejemplo sería para obtener el 2:<br>\n",
        "4+2-6/3x1= 4<br>\n",
        "Debe analizarse el problema para encontrar todos los valores enteros posibles planteando las\n",
        "siguientes cuestiones:<br>\n",
        "- ¿Qué valor máximo y mínimo a priori se pueden obtener según las condiciones?\n",
        "- ¿Es posible encontrar todos los valores enteros posibles entre dicho mínimo y máximo ?\n",
        "\n",
        "Nota: Es posible usar la función de python “eval” para evaluar una expresión"
      ]
    },
    {
      "metadata": {
        "id": "Nu9yqJhUiAz5",
        "colab_type": "text"
      },
      "cell_type": "markdown",
      "source": [
        "Respondiendo a las dos preguntas anteriores, el valor máximo que podremos obtener, teniendo en cuenta la restricción de que debe ser un número entero será igual a:<br>\n",
        "máximo=9x8+7-2/1= 77<br>\n",
        "Así mismo el valor mínimo atendiento a la misma restricción será igual a:<br>\n",
        "mínimo= 1+4/2-8x9= -69<br>\n",
        "\n",
        "Respondiendo a la pregunta siguiente, sí, es posible encontrar todo los valores enteros posibles entre el máximo y el mínimo, posteriormente en el código lo demostraré de forma empírica."
      ]
    },
    {
      "metadata": {
        "id": "SVHiDMYKozmr",
        "colab_type": "text"
      },
      "cell_type": "markdown",
      "source": [
        "---"
      ]
    },
    {
      "metadata": {
        "id": "XeSOAL8JXgJt",
        "colab_type": "text"
      },
      "cell_type": "markdown",
      "source": [
        "(*)¿Cuantas posibilidades hay sin tener en cuenta las restricciones?<br>\n",
        "\n",
        "\n",
        "\n",
        "¿Cuantas posibilidades hay teniendo en cuenta todas las restricciones.\n"
      ]
    },
    {
      "metadata": {
        "id": "lwq1t4BEZN4B",
        "colab_type": "text"
      },
      "cell_type": "markdown",
      "source": [
        "<h3>RESPUESTAS </h3>\n",
        "\n",
        "\n",
        "---\n",
        "El número de posibilidades <b>sin tener en cuenta restricciones</b> es, siendo n el número de cifras y s el número de operaciones:<br/>\n",
        "n*(n-1)*(n-2)*(n-3)*(n-4)*s*(s-1)*(s-1)*(s-2), siendo en este caso n=9 y s=4, tenemos que la respuesta  es 4 factorial multiplicado por Variaciones de 9 elementos tomados de 5 en 5, por tanto las posibilidades son: <b>362880</b><br><br>\n",
        "\n",
        " <b>Si tenemos en cuenta las restricciones</b>, esto es encontrando solo los valores enteros, es decir, excluyendo aquellas operaciones que no generen valores enteros estamos en ese caso en 90000 posibilidades."
      ]
    },
    {
      "metadata": {
        "id": "eSEqRGP6o5Nt",
        "colab_type": "text"
      },
      "cell_type": "markdown",
      "source": [
        "---"
      ]
    },
    {
      "metadata": {
        "id": "0qw9TT_7Xg6R",
        "colab_type": "text"
      },
      "cell_type": "markdown",
      "source": [
        "Modelo para el espacio de soluciones<br>\n",
        "(*) ¿Cual es la estructura de datos que mejor se adapta al problema? Argumentalo.(Es posible que hayas elegido una al principio y veas la necesidad de cambiar, arguentalo)"
      ]
    },
    {
      "metadata": {
        "id": "s__pISgkXhA7",
        "colab_type": "text"
      },
      "cell_type": "markdown",
      "source": [
        "<h3>RESPUESTA </h3>\n",
        "\n",
        "\n",
        "---\n",
        "He elegido una estructura de datos muy sencilla, por un lado un conjunto al que he llamado cifras y otro al que he llamado operaciones, de tal forma que:<br>\n",
        "cifras=[\"1\",\"2\",\"3\",\"4\",\"5\",\"6\",\"7\",\"8\",\"9\"]<br>\n",
        "operaciones =[\"+\",\"-\",\"*\",\"/\"]<br>\n",
        "Con esto consigo algo importante, trato cada elemento como una cadena de texto con la que compongo la expresión a evaluar de una forma sencilla, por otro lado, al trabajar con conjuntos puedo de una forma rápida eliminar el elemento previo en la siguiente iteración para evitar repeticiones de elementos. La alternativa de utilizar un rango del 1 al 9 en la primera iteracion y en la siguiente de 2 al 9, la siguiente del 3 al 9 no es válida ya que quiero iterar por ejemplo con 12345 pero también con 21345. "
      ]
    },
    {
      "metadata": {
        "id": "GGo25gUmo9gz",
        "colab_type": "text"
      },
      "cell_type": "markdown",
      "source": [
        "---"
      ]
    },
    {
      "metadata": {
        "id": "2IOkNgxDXhHi",
        "colab_type": "text"
      },
      "cell_type": "markdown",
      "source": [
        "Según el modelo para el espacio de soluciones<br>\n",
        "(*)¿Cual es la función objetivo?\n",
        "\n",
        "(*)¿Es un problema de maximización o minimización?"
      ]
    },
    {
      "metadata": {
        "id": "LtJIhBvOXhOE",
        "colab_type": "text"
      },
      "cell_type": "markdown",
      "source": [
        "<h3>RESPUESTAS </h3>\n",
        "\n",
        "\n",
        "---\n"
      ]
    },
    {
      "metadata": {
        "id": "cqVLvUPPX4fR",
        "colab_type": "text"
      },
      "cell_type": "markdown",
      "source": [
        "La función objetivo en este caso es la diferencia entre la expresión que estoy evaluando y el objetivo, esto es, siendo expresión igual a la operación a evaluar de cifra_1-operación_1-cifra_2-operación_2-cifra_3-operación_3-cifra_4-operación_4-cifra_5 y target el número que queremos calcular, nuestra función objetivo será la diferencia entre expresión y target. No obstante veremos la implementación del algoritmo en busqueda del valor exacto.<br>\n",
        "Evidentemente en este caso no queremos maximizar la función objetivo sino llevarla a 0 para que la expresión sea igual al target, es un algoritmo de buscar soluciones.\n"
      ]
    },
    {
      "metadata": {
        "id": "4jrw7hkdqq35",
        "colab_type": "text"
      },
      "cell_type": "markdown",
      "source": [
        "---"
      ]
    },
    {
      "metadata": {
        "id": "LfJELv_jX4kU",
        "colab_type": "text"
      },
      "cell_type": "markdown",
      "source": [
        "Diseña un algoritmo para resolver el problema por fuerza bruta"
      ]
    },
    {
      "metadata": {
        "id": "l5IL6Zhij5i5",
        "colab_type": "text"
      },
      "cell_type": "markdown",
      "source": [
        "<h3>RESPUESTA </h3>\n",
        "\n",
        "\n",
        "---\n",
        "Como dato a tener en cuenta empecé utilzando en los bubles for la opción de ordenar el conjunto: <br> for i in sorted(set(cifras)) ...en cada uno de los bucles, algo que no aporta nada al cálculo y que empeora los tiempos, prácticamente duplicaba el tiempo necesario para el cálculo, estaba en promedios de 2,3 segundos. Al eliminar sorted, lógicamente los tiempos se han reducido drásticamente.\n"
      ]
    },
    {
      "metadata": {
        "id": "BlqlmmVZmZqR",
        "colab_type": "code",
        "colab": {}
      },
      "cell_type": "code",
      "source": [
        "#Decorador para calculo del tiempo de una función modificado para mejor salida de información\n",
        "from time import time\n",
        "def calcular_tiempo(f):\n",
        "  def wrapped(*args, **kw):\n",
        "    ti = time()\n",
        "    result = f(*args, **kw)\n",
        "    te = time() - ti\n",
        "    print ('\\nTiempo de ejecución de la funcion %r: %2.5f ms'%(f.__name__,te*1000))\n",
        "    return result\n",
        "  return wrapped"
      ],
      "execution_count": 0,
      "outputs": []
    },
    {
      "metadata": {
        "id": "7764Rc_4h05R",
        "colab_type": "code",
        "outputId": "c56b5f15-4ed6-47f9-ba95-35dfaf055085",
        "colab": {
          "base_uri": "https://localhost:8080/",
          "height": 89
        }
      },
      "cell_type": "code",
      "source": [
        "# Conjunto de Datos cifras y operaciones\n",
        "cifras =['1','2','3','4','5','6','7','8','9']\n",
        "operacion=['+','-','*','/']\n",
        "\n",
        "# Función por fuerza bruta\n",
        "def fuerza_bruta(target):\n",
        "  # Compruebo que el dato de entrada está entre los máximos y mínimos \n",
        "  if target >77 or target <-69:\n",
        "    return('El valor está fuera del rango, recuerda que debe ser mayor o igual que -69 y menor o igual a 77')\n",
        "  \n",
        "  # Realizo bucles anidados combinando las cifras con las operaciones y excluyendo del conjunto siguiente el elemento anterior del conjunto de cifras u operaciones\n",
        "  # Denomino i,j,k,v,w a las cifras y a,b,c,d a las operaciones\n",
        "  for i in set(cifras):\n",
        "    for a in set(operacion):\n",
        "      for j in (set(cifras)-{i}):\n",
        "        for b in (set(operacion)-{a}):\n",
        "          for k in (set(cifras)-{i}-{j}):\n",
        "            for c in (set(operacion)-{a}-{b}):\n",
        "              for v in (set(cifras)-{i}-{j}-{k}):\n",
        "                for d in (set(operacion)-{a}-{b}-{c}):\n",
        "                  for w in (set(cifras)-{i}-{j}-{k}-{v}):\n",
        "                    expresion = i+a+j+b+k+c+v+d+w # Genero la expresión a evaluar\n",
        "                    val=eval(expresion)\n",
        "                    # El enunciado pide que sólo se analice para buscar valores enteros\n",
        "                    if (val.is_integer()):\n",
        "                      if (val)==target:   #Si hay coincidencia no sigo buscando y devuelvo el valor y la expresión que lo resuelve\n",
        "                        return(val,expresion)\n",
        "  return('Error, valor no encontrado') # En caso de que no encuenrte valor devuelvo un error por valor no encontrado en la función\n",
        "\n",
        "# Utilizo una función intermedia para poder aplicar el decorador\n",
        "@calcular_tiempo\n",
        "def Llamada_fuerza_bruta(num):\n",
        "  print('Valor Buscado= ',num) \n",
        "  return fuerza_bruta(num)\n",
        "\n",
        "print(Llamada_fuerza_bruta(77))\n",
        "\n",
        "# Comprobación empirica de que resuelve en todos los casos\n",
        "#for n in range(-69,78,1):\n",
        "#  print(Llamada_fuerza_bruta(n))\n"
      ],
      "execution_count": 0,
      "outputs": [
        {
          "output_type": "stream",
          "text": [
            "Valor Buscado=  77\n",
            "\n",
            "Tiempo de ejecución de la funcion 'Llamada_fuerza_bruta': 1753.71528 ms\n",
            "(77.0, '7+9*8-2/1')\n"
          ],
          "name": "stdout"
        }
      ]
    },
    {
      "metadata": {
        "id": "3AymEVfHqwGJ",
        "colab_type": "text"
      },
      "cell_type": "markdown",
      "source": [
        "---"
      ]
    },
    {
      "metadata": {
        "id": "F9cc3OPZX4nT",
        "colab_type": "text"
      },
      "cell_type": "markdown",
      "source": [
        "Calcula la complejidad del algoritmo por fuerza bruta"
      ]
    },
    {
      "metadata": {
        "id": "-3b1aeieX4qO",
        "colab_type": "text"
      },
      "cell_type": "markdown",
      "source": [
        "<h3>RESPUESTA </h3>\n",
        "\n",
        "\n",
        "---\n",
        "Tal como está planteado el problema, los bucles generados no dependen de N, siendo N el tamaño del problema. <br>\n",
        "Dado el caso, tiene más sentido estudiar eficiencia en lugar de estudiar la complejidad y comparar las operaciones realizadas con fuerza bruta vs el algoritmo de mejora.<br>\n",
        "\n",
        "No es fácil el conteo exacto pero podemos ver el mejor caso vs el peor caso y después comparar con el algoritmo metaheurístico propuesto.<br>\n",
        "Centrándonos en la función fuerza bruta tenemos un mejor caso, supongamos que estamos buscando el número y en la primera expresión generada obtenemos el número, en ese caso estamos ante las 38 Operaciones Elementales  siguientesque se contabilizan en la imagen inferior:"
      ]
    },
    {
      "metadata": {
        "id": "Nl9qEOjhomYE",
        "colab_type": "text"
      },
      "cell_type": "markdown",
      "source": [
        "![Grafico Operaciones Mínimas](https://github.com/angelblancas/03MAIR-Algoritmos-de-Optimizacion/blob/master/SEMINARIO/operaciones_minimas.png?raw=true)"
      ]
    },
    {
      "metadata": {
        "id": "V-tqD82QrGnD",
        "colab_type": "text"
      },
      "cell_type": "markdown",
      "source": [
        "Si nos vamos al peor de los casos, vamos a tener que repetir los bubles for que en el mejor de los casos suponian 25 operaciones, hasta completar las V9,5 + 4! y descontando una operación cuando el resultado no sea entero. Por tanto el número de operaciones media podemos tomar el 50% de las máximas como aproximación, podriamos detallarlo más pero se trata de comparar con el algoritmos metaheuristico. "
      ]
    },
    {
      "metadata": {
        "id": "VcnDAch_pD0z",
        "colab_type": "text"
      },
      "cell_type": "markdown",
      "source": [
        "---"
      ]
    },
    {
      "metadata": {
        "id": "EIEn8Q1oX4s7",
        "colab_type": "text"
      },
      "cell_type": "markdown",
      "source": [
        "(*)Diseña un algoritmo que mejore la complejidad del algortimo por fuerza bruta. Argumenta porque crees que mejora el algoritmo por fuerza bruta"
      ]
    },
    {
      "metadata": {
        "id": "Ftu4KJavofEL",
        "colab_type": "text"
      },
      "cell_type": "markdown",
      "source": [
        "<h3>RESPUESTA </h3>\n",
        "\n",
        "\n",
        "---"
      ]
    },
    {
      "metadata": {
        "id": "zMKA2Fv8muab",
        "colab_type": "text"
      },
      "cell_type": "markdown",
      "source": [
        "He estado analizando diferentes posibilidades que, en algunos casos no he puesto en práctica y en otros he descartado directamente.<br> El primer algoritmo que he intentando es divide y venceras pivotando siempre por las operaciones conmutativas en orden de prioridad, esto es el producto y luego la suma, pero me he encontrado que no encuentro soluciones parciales correctas al problema. <br> Otro ha sido evaluar las expresiones que se van formando y descartar sabiendo que no merece la pena seguir construyendo al expresión final, lo he desarrollado y descartado ya que sólo mejora eficiencia pero no complejidad y además si el problema crece en número de operaciones o números nos podemos encontrar con cifras realmente altas en consumo de máquina y tiempo. <br>Finalmente me he decido a \"jugar\" con técnicas heurísticas, no porque el problema no se pueda resolver por técnicas exactas que ya se ha demostrado que se puede, simplemente para prácticar y además para resolver los problemas derivados de crecer en número de operaciones o de cifras.<br>\n",
        "Mi elección ha sido utilizar una búsqueda de solución aleatoria, para no perder ciclos de búsqueda de solución he tenido en cuenta dos factores, uno que la expresión generada produzca un entero y dos que no se repita basándome en una lista tabú con un límite de elementos configurable.<br>\n",
        "He observado que el resultado es óptimo y en un alto porcentaje exácto con valores de iteración bajos, del orden de 1000 "
      ]
    },
    {
      "metadata": {
        "id": "pisMwdrVu_Fr",
        "colab_type": "code",
        "outputId": "bbac902c-547c-43f7-cb61-1063a5e19760",
        "colab": {
          "base_uri": "https://localhost:8080/",
          "height": 89
        }
      },
      "cell_type": "code",
      "source": [
        "# SOLUCIÓN HEURÍSTICA BASADA EN BÚSQUEDA TABÚ\n",
        "# Conjunto de Datos cifras y operaciones\n",
        "from random import sample\n",
        "\n",
        "cifras =['1','2','3','4','5','6','7','8','9']\n",
        "operacion=['+','-','*','/']\n",
        "lista_tabu=[]\n",
        "\n",
        "# Esta función se encargará de llevar una lista de expresiones ya utilizadas \n",
        "# para evitar perder ciclos revisando la misma expresión\n",
        "def funcion_tabu(lista, expresion, limite):\n",
        "  if expresion in lista:\n",
        "    return False\n",
        "  else:\n",
        "    lista.append(expresion)\n",
        "    if len(lista)>limite:\n",
        "      del lista[0]\n",
        "    return True\n",
        "  \n",
        "\n",
        "# Función de generación aleatoria de solucion\n",
        "def busqueda_aleatoria(target):\n",
        "  # Creo una expresión que inicializo a un valor que no genera un entero de utilidad para los loops while\n",
        "  expresion='1-6+7/9*4'\n",
        "  while not (eval(expresion).is_integer()): # Me aseguro de generar una expresión que devuelve un entero\n",
        "    c= sample(cifras, 5)\n",
        "    o= sample(operacion,4)\n",
        "    expresion=c[0]+o[0]+c[1]+o[1]+c[2]+o[2]+c[3]+o[3]+c[4]\n",
        "  \n",
        "  # Compruebo que no sea una expresion previa viendo si está en la lista tabú y si está recalculo la expresión\n",
        "  while not funcion_tabu(lista_tabu,expresion,100):\n",
        "    expresion='1-6+7/9*4'\n",
        "    while not (eval(expresion).is_integer()): # Vuelvo a generar una nueva expresion entera\n",
        "      c= sample(cifras, 5)\n",
        "      o= sample(operacion,4)\n",
        "      expresion=c[0]+o[0]+c[1]+o[1]+c[2]+o[2]+c[3]+o[3]+c[4]\n",
        "    \n",
        "  return(eval(expresion),expresion)\n",
        "\n",
        "\n",
        "@calcular_tiempo\n",
        "def busca_solucion(target):\n",
        "  N=1000 # numero de iteraciones máximas en busqueda aleatoria de solucion\n",
        "  mejor_valor=10e100\n",
        "  \n",
        "  while (N>0):\n",
        "    valor, expresion = busqueda_aleatoria(target)\n",
        "    #print(valor,expresion)\n",
        "    if valor == target: # Condición de salida anticipada\n",
        "      #print('Encontrada solución con N= ',N)\n",
        "      mejor_expresion=expresion\n",
        "      N=0\n",
        "    if (abs(valor-target)) < mejor_valor:\n",
        "      mejor_valor=abs(valor-target)\n",
        "      #print('Almacenado como mejor valor hasta ahora ', mejor_valor)\n",
        "      mejor_expresion=expresion\n",
        "    N=N-1\n",
        "\n",
        "  print ('mejor expresion encontrada= ', mejor_expresion)\n",
        "  print ('Valor alcanzado           = ',eval(mejor_expresion))\n",
        "\n",
        "  \n",
        "busca_solucion(-50)  \n",
        "\n",
        "\n",
        "  "
      ],
      "execution_count": 13,
      "outputs": [
        {
          "output_type": "stream",
          "text": [
            "mejor expresion encontrada=  4/1+2-8*7\n",
            "Valor alcanzado           =  -50.0\n",
            "\n",
            "Tiempo de ejecución de la funcion 'busca_solucion': 76.41220 ms\n"
          ],
          "name": "stdout"
        }
      ]
    },
    {
      "metadata": {
        "id": "fmmNnAOlWGga",
        "colab_type": "text"
      },
      "cell_type": "markdown",
      "source": [
        "---"
      ]
    },
    {
      "metadata": {
        "id": "V-ub8SijX4y8",
        "colab_type": "text"
      },
      "cell_type": "markdown",
      "source": [
        "(*)Calcula la complejidad del algoritmo "
      ]
    },
    {
      "metadata": {
        "id": "LD5mnewdX42E",
        "colab_type": "text"
      },
      "cell_type": "markdown",
      "source": [
        "<h3>RESPUESTA </h3>\n",
        "\n",
        "\n",
        "---\n"
      ]
    },
    {
      "metadata": {
        "id": "qYj0ZWdtWJ3z",
        "colab_type": "text"
      },
      "cell_type": "markdown",
      "source": [
        "Como en el algoritmo previo se trata de analizar el conteo del número de operaciones, en este caso también hay un caso mínimo y es que la función busqueda_aleatoria en la primera llamada encuentre una expresión que satisfaga la cifra, aquí sin embargo el máximo número de veces que llamo a la función busqueda_aleatoria vendrá determinado en el peor de los casos (si no encuentra una expresión que satisfaga el valor) por el valor de la variable N de la función busca_solución. <br>\n",
        "Para el mejor de los casos tenemos en este algoritmo ejecuta 28 Operaciones Elementales, algo casi equivalente a las 38 del algoritmo de fuerza bruta. Si por ejemplo tenemos un valor de N=1000, el peor de los casos, aunque es variable ya que depende de si la expresión está en la lista tabú o no, pero en general estamos en un orden inferior a las 30000 operaciones, muy por debajo del algoritmo de fuerza bruta que en el caso peor de los casos multiplica por 10. Esto puede verse empíricamente realizando una bateria de cálculos con ambos algoritmos, se pueden observar muchos casos que la diferencia en tiempo de ejecución es de orden 10 veces superior en el algoritmo de fuerza bruta."
      ]
    },
    {
      "metadata": {
        "id": "s2TKyIVSWJbT",
        "colab_type": "text"
      },
      "cell_type": "markdown",
      "source": [
        "---"
      ]
    },
    {
      "metadata": {
        "id": "0qtMuPNOYH9K",
        "colab_type": "text"
      },
      "cell_type": "markdown",
      "source": [
        "Según el problema (y tenga sentido), diseña un juego de datos de entrada aleatorios"
      ]
    },
    {
      "metadata": {
        "id": "dGeC2b2NYIDj",
        "colab_type": "text"
      },
      "cell_type": "markdown",
      "source": [
        "<h3>RESPUESTA </h3>\n",
        "\n",
        "\n",
        "---\n"
      ]
    },
    {
      "metadata": {
        "id": "B6jLhdrYpL3z",
        "colab_type": "text"
      },
      "cell_type": "markdown",
      "source": [
        "Para nuestro problema carece de sentido diseñar un juego de datos de entrada aleatorio. Por tanto esta pregunta no debe responderse.\n"
      ]
    },
    {
      "metadata": {
        "id": "IfHmaesvpTC7",
        "colab_type": "text"
      },
      "cell_type": "markdown",
      "source": [
        "---"
      ]
    },
    {
      "metadata": {
        "id": "Lcb5mt2HYIGS",
        "colab_type": "text"
      },
      "cell_type": "markdown",
      "source": [
        "Aplica el algoritmo al juego de datos generado"
      ]
    },
    {
      "metadata": {
        "id": "78JYQWNFYII7",
        "colab_type": "text"
      },
      "cell_type": "markdown",
      "source": [
        "<h3>RESPUESTA </h3>\n",
        "\n",
        "\n",
        "---\n",
        "Según la respuesta anterior, no aplica esta pregunta al ejercicio desarrollado."
      ]
    },
    {
      "metadata": {
        "id": "6NIDR8fMpbW9",
        "colab_type": "text"
      },
      "cell_type": "markdown",
      "source": [
        "---"
      ]
    },
    {
      "metadata": {
        "id": "gipojr1pYILc",
        "colab_type": "text"
      },
      "cell_type": "markdown",
      "source": [
        "Enumera las referencias que has utilizado(si ha sido necesario) para llevar a cabo el trabajo"
      ]
    },
    {
      "metadata": {
        "id": "zHmX-wxcYIOC",
        "colab_type": "text"
      },
      "cell_type": "markdown",
      "source": [
        "<h3>RESPUESTA </h3>\n",
        "\n",
        "\n",
        "---\n",
        "Para la primera parte, análisis por fuerza bruta, no ha sido necesario utilizar referencias ya que con el contenido de las clases ha sido suficiente. Así mismo para el  diseño heurístico he empleado como referencias el manual de clase y las trasparencias de la clase para finalmente elegir la metaheurística de búsqueda tabú. Para codificarla simplemente he seguido el pseudocódigo facilitado por Raúl en clase. Adicionalmente en resolución de algún error de código de python he usado:\n",
        "- stackoverflow (https://stackoverflow.com)\n",
        "- https://recursospython.com/\n",
        "\n",
        "También dentro de las soluciones revisadas y descartadas he estado leyendo documentación sobre la implementación de simplex en :\n",
        "- https://docs.scipy.org/doc/scipy/reference/optimize.linprog-simplex.html\n",
        "\n",
        "\n"
      ]
    },
    {
      "metadata": {
        "id": "24zxdG_ip2Rb",
        "colab_type": "text"
      },
      "cell_type": "markdown",
      "source": [
        "---"
      ]
    },
    {
      "metadata": {
        "id": "DbwO6KQ5YIQR",
        "colab_type": "text"
      },
      "cell_type": "markdown",
      "source": [
        "Describe brevemente las lineas de como crees que es posible avanzar en el estudio del problema. Ten en cuenta incluso posibles variaciones del problema y/o variaciones al alza del tamaño"
      ]
    },
    {
      "metadata": {
        "id": "xRh03fv7KbFq",
        "colab_type": "text"
      },
      "cell_type": "markdown",
      "source": [
        "<h3>RESPUESTA </h3>\n",
        "\n",
        "\n",
        "---\n"
      ]
    },
    {
      "metadata": {
        "id": "c-o2SB8cKo4p",
        "colab_type": "text"
      },
      "cell_type": "markdown",
      "source": [
        "Desde mi punto de vista,  si intentamos llevar el problema a por ejemplo combinaciones de números y operaciones con cifras altas, pongamos 100 cifras y 99 operaciones, si hablamos de cifras de varios digitos que no se repitan estamos pongamos variaciones de 100 elementos tomados de 100 en 100 más variaciones con repetición (no podemos inventarnos 99 operaciones fundamentales) de 4 elementos tomados de 99 en 99 estamos ante cifras de operaciones por encima de 1e60. Si vamos hacia algoritmos exactos, deberíamos trabajar con ramificación y poda, trabajando muy bien la poda para no exceder el número de operaciones, no obstante la metaheurística ha sido un descubrimineto muy interesante y desde luego haríamos pruebas para chequear un valor de N en el número de intentos de busqueda aleatoria que nos genere valores óptimos. "
      ]
    }
  ]
}